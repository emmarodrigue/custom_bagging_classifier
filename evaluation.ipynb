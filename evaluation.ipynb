{
 "cells": [
  {
   "cell_type": "markdown",
   "metadata": {},
   "source": [
    "# Evaluate the Custom Bagging Classifier"
   ]
  },
  {
   "cell_type": "code",
   "execution_count": 37,
   "metadata": {},
   "outputs": [],
   "source": [
    "# Import the ncessary libraries and modules\n",
    "from sklearn.metrics import confusion_matrix\n",
    "from sklearn.model_selection import train_test_split\n",
    "from sklearn.tree import DecisionTreeClassifier\n",
    "from sklearn import datasets\n",
    "from bagging import CustomBaggingClassifier\n",
    "from sklearn.ensemble import BaggingClassifier"
   ]
  },
  {
   "cell_type": "markdown",
   "metadata": {},
   "source": [
    "### Evaluate the Custom Bagging Classifier on the Scikit-Learn **Iris dataset** and compare the results with the Scikit-learn `BaggingClassifier`. Print the **accuracy score** and the **confusion matrix** for both models. For replicability, use a `random_state` of 43 for the `train_test_split` and a `test_size` of 0.25. Use a `DecisionTreeClassifier` of `max_depth=2` as the base estimator and a `n_estimators=10` for both models."
   ]
  },
  {
   "cell_type": "code",
   "execution_count": 40,
   "metadata": {},
   "outputs": [
    {
     "name": "stdout",
     "output_type": "stream",
     "text": [
      "sklearn bagging classifier:\n",
      "accuracy: \n",
      " 94.73684210526315\n",
      "confusion matrix: \n",
      " [[14  0  0]\n",
      " [ 0 12  0]\n",
      " [ 0  2 10]]\n",
      "\n",
      "custom bagging classifier\n",
      "accuracy: \n",
      " 97.36842105263158\n",
      "confusion matrix: \n",
      " [[14  0  0]\n",
      " [ 0 12  0]\n",
      " [ 0  1 11]]\n"
     ]
    },
    {
     "name": "stderr",
     "output_type": "stream",
     "text": [
      "C:\\Users\\Emma\\miniconda3\\envs\\cs4347\\lib\\site-packages\\sklearn\\ensemble\\_base.py:166: FutureWarning: `base_estimator` was renamed to `estimator` in version 1.2 and will be removed in 1.4.\n",
      "  warnings.warn(\n",
      "C:\\Users\\Emma\\miniconda3\\envs\\cs4347\\lib\\site-packages\\sklearn\\ensemble\\_bagging.py:791: UserWarning: Some inputs do not have OOB scores. This probably means too few estimators were used to compute any reliable oob estimates.\n",
      "  warn(\n",
      "C:\\Users\\Emma\\miniconda3\\envs\\cs4347\\lib\\site-packages\\sklearn\\ensemble\\_bagging.py:797: RuntimeWarning: invalid value encountered in divide\n",
      "  oob_decision_function = predictions / predictions.sum(axis=1)[:, np.newaxis]\n"
     ]
    }
   ],
   "source": [
    "iris = datasets.load_iris()\n",
    "X, y = iris.data, iris.target\n",
    "\n",
    "X_train, X_test, y_train, y_test = train_test_split(X, y, test_size=0.25, random_state=43)\n",
    "tree = DecisionTreeClassifier(criterion='entropy', random_state=43, max_depth=2)\n",
    "\n",
    "bag = BaggingClassifier(base_estimator=tree, oob_score=True, bootstrap=True, n_estimators=10, random_state=43)\n",
    "bag.fit(X_train, y_train)\n",
    "bag_pred = bag.predict(X_test)\n",
    "bag_cm = confusion_matrix(y_test, bag.predict(X_test))\n",
    "\n",
    "num_correct_predictions = (bag_pred == y_test).sum()\n",
    "accuracy = (num_correct_predictions / y_test.shape[0]) * 100\n",
    "\n",
    "print(\"sklearn bagging classifier:\")\n",
    "print(\"accuracy: \\n\", accuracy)\n",
    "print(\"confusion matrix: \\n\", bag_cm)\n",
    "\n",
    "custom = CustomBaggingClassifier(base_estimator=DecisionTreeClassifier(max_depth=2), n_estimators=10, random_state=43)\n",
    "custom.fit(X_train, y_train)\n",
    "custom_pred = custom.predict(X_test)\n",
    "custom_cm = confusion_matrix(y_test, custom.predict(X_test))\n",
    "\n",
    "num_correct_predictions = (custom_pred == y_test).sum()\n",
    "accuracy = (num_correct_predictions / y_test.shape[0]) * 100\n",
    "\n",
    "print(\"\\ncustom bagging classifier\")\n",
    "print(\"accuracy: \\n\", accuracy)\n",
    "print(\"confusion matrix: \\n\", custom_cm)"
   ]
  },
  {
   "cell_type": "code",
   "execution_count": null,
   "metadata": {},
   "outputs": [],
   "source": []
  }
 ],
 "metadata": {
  "kernelspec": {
   "display_name": "Python 3 (ipykernel)",
   "language": "python",
   "name": "python3"
  },
  "language_info": {
   "codemirror_mode": {
    "name": "ipython",
    "version": 3
   },
   "file_extension": ".py",
   "mimetype": "text/x-python",
   "name": "python",
   "nbconvert_exporter": "python",
   "pygments_lexer": "ipython3",
   "version": "3.8.16"
  }
 },
 "nbformat": 4,
 "nbformat_minor": 4
}
